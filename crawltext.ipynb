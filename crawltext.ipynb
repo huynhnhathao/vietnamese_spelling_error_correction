{
  "nbformat": 4,
  "nbformat_minor": 0,
  "metadata": {
    "colab": {
      "name": "crawltext.ipynb",
      "provenance": []
    },
    "kernelspec": {
      "name": "python3",
      "display_name": "Python 3"
    }
  },
  "cells": [
    {
      "cell_type": "code",
      "metadata": {
        "id": "1DFPSBomW0x4",
        "colab": {
          "base_uri": "https://localhost:8080/"
        },
        "outputId": "d18977dd-8f36-449e-d6bc-a6c8f7547cb9"
      },
      "source": [
        "!pip install scrapy\n",
        "import scrapy\n",
        "from scrapy.crawler import CrawlerProcess\n",
        "# response.css('section').css('p::text').getall()\n",
        "#response.css(\"li > a::attr(href)\").re(r'vnexpress.net.*')"
      ],
      "execution_count": null,
      "outputs": [
        {
          "output_type": "stream",
          "text": [
            "Requirement already satisfied: scrapy in /usr/local/lib/python3.6/dist-packages (2.4.1)\n",
            "Requirement already satisfied: service-identity>=16.0.0 in /usr/local/lib/python3.6/dist-packages (from scrapy) (18.1.0)\n",
            "Requirement already satisfied: cryptography>=2.0 in /usr/local/lib/python3.6/dist-packages (from scrapy) (3.3.1)\n",
            "Requirement already satisfied: zope.interface>=4.1.3 in /usr/local/lib/python3.6/dist-packages (from scrapy) (5.2.0)\n",
            "Requirement already satisfied: w3lib>=1.17.0 in /usr/local/lib/python3.6/dist-packages (from scrapy) (1.22.0)\n",
            "Requirement already satisfied: queuelib>=1.4.2 in /usr/local/lib/python3.6/dist-packages (from scrapy) (1.5.0)\n",
            "Requirement already satisfied: cssselect>=0.9.1 in /usr/local/lib/python3.6/dist-packages (from scrapy) (1.1.0)\n",
            "Requirement already satisfied: PyDispatcher>=2.0.5 in /usr/local/lib/python3.6/dist-packages (from scrapy) (2.0.5)\n",
            "Requirement already satisfied: protego>=0.1.15 in /usr/local/lib/python3.6/dist-packages (from scrapy) (0.1.16)\n",
            "Requirement already satisfied: itemloaders>=1.0.1 in /usr/local/lib/python3.6/dist-packages (from scrapy) (1.0.4)\n",
            "Requirement already satisfied: pyOpenSSL>=16.2.0 in /usr/local/lib/python3.6/dist-packages (from scrapy) (20.0.1)\n",
            "Requirement already satisfied: lxml>=3.5.0; platform_python_implementation == \"CPython\" in /usr/local/lib/python3.6/dist-packages (from scrapy) (4.2.6)\n",
            "Requirement already satisfied: parsel>=1.5.0 in /usr/local/lib/python3.6/dist-packages (from scrapy) (1.6.0)\n",
            "Requirement already satisfied: itemadapter>=0.1.0 in /usr/local/lib/python3.6/dist-packages (from scrapy) (0.2.0)\n",
            "Requirement already satisfied: Twisted>=17.9.0 in /usr/local/lib/python3.6/dist-packages (from scrapy) (20.3.0)\n",
            "Requirement already satisfied: pyasn1-modules in /usr/local/lib/python3.6/dist-packages (from service-identity>=16.0.0->scrapy) (0.2.8)\n",
            "Requirement already satisfied: pyasn1 in /usr/local/lib/python3.6/dist-packages (from service-identity>=16.0.0->scrapy) (0.4.8)\n",
            "Requirement already satisfied: attrs>=16.0.0 in /usr/local/lib/python3.6/dist-packages (from service-identity>=16.0.0->scrapy) (20.3.0)\n",
            "Requirement already satisfied: cffi>=1.12 in /usr/local/lib/python3.6/dist-packages (from cryptography>=2.0->scrapy) (1.14.4)\n",
            "Requirement already satisfied: six>=1.4.1 in /usr/local/lib/python3.6/dist-packages (from cryptography>=2.0->scrapy) (1.15.0)\n",
            "Requirement already satisfied: setuptools in /usr/local/lib/python3.6/dist-packages (from zope.interface>=4.1.3->scrapy) (51.1.1)\n",
            "Requirement already satisfied: jmespath>=0.9.5 in /usr/local/lib/python3.6/dist-packages (from itemloaders>=1.0.1->scrapy) (0.10.0)\n",
            "Requirement already satisfied: PyHamcrest!=1.10.0,>=1.9.0 in /usr/local/lib/python3.6/dist-packages (from Twisted>=17.9.0->scrapy) (2.0.2)\n",
            "Requirement already satisfied: incremental>=16.10.1 in /usr/local/lib/python3.6/dist-packages (from Twisted>=17.9.0->scrapy) (17.5.0)\n",
            "Requirement already satisfied: Automat>=0.3.0 in /usr/local/lib/python3.6/dist-packages (from Twisted>=17.9.0->scrapy) (20.2.0)\n",
            "Requirement already satisfied: hyperlink>=17.1.1 in /usr/local/lib/python3.6/dist-packages (from Twisted>=17.9.0->scrapy) (21.0.0)\n",
            "Requirement already satisfied: constantly>=15.1 in /usr/local/lib/python3.6/dist-packages (from Twisted>=17.9.0->scrapy) (15.1.0)\n",
            "Requirement already satisfied: pycparser in /usr/local/lib/python3.6/dist-packages (from cffi>=1.12->cryptography>=2.0->scrapy) (2.20)\n",
            "Requirement already satisfied: idna>=2.5 in /usr/local/lib/python3.6/dist-packages (from hyperlink>=17.1.1->Twisted>=17.9.0->scrapy) (2.10)\n"
          ],
          "name": "stdout"
        }
      ]
    },
    {
      "cell_type": "code",
      "metadata": {
        "id": "jqNswZAtZpsn"
      },
      "source": [
        "class VNExpressSpider(scrapy.Spider):\n",
        "  name = 'vnexpress_crawler'\n",
        "  allowed_domains = ['vnexpress.net']\n",
        "  start_urls = ['https://vnexpress.net/cong-tac-nhan-su-dai-hoi-xiii-qua-cac-hoi-nghi-trung-uong-4206324.html', \n",
        "                'https://vnexpress.net/cuu-chanh-an-tand-ha-tinh-bi-de-nghi-ky-luat-4206796.html', \n",
        "                'https://vnexpress.net/dac-quyen-cua-pho-tong-thong-my-4206671.html', \n",
        "                'https://vnexpress.net/pho-wall-lao-doc-vi-noi-so-covid-19-tro-lai-4206370.html', \n",
        "                'https://vnexpress.net/cai-thien-lan-da-voi-sua-tam-trang-yukina-4205835.html', \n",
        "                'https://vnexpress.net/liverpool-tottenham-tranh-ngoi-dau-ngoai-hang-anh-4206590.html', \n",
        "                'https://vnexpress.net/tai-xe-tong-nu-tiep-vien-hang-khong-bi-de-nghi-6-7-nam-tu-4206874.html', \n",
        "                'https://vnexpress.net/nguoi-dan-am-uc-vi-du-khach-duoc-di-lai-khap-noi-4206536.html',\n",
        "                'https://vnexpress.net/lat-nguoc-the-co-nho-chuyen-doi-so-4206387.html', \n",
        "                'https://vnexpress.net/co-gai-lac-quan-manh-me-4206416.html', \n",
        "                'https://vnexpress.net/canh-sat-giao-thong-tap-trung-xu-ly-vi-pham-dip-cuoi-nam-4206636.html', \n",
        "                'https://vnexpress.net/khoa-hoc-lai-may-bay-tai-royhle-flight-4171655.html', \n",
        "                'https://vnexpress.net/ba-clinton-keu-goi-bo-he-thong-dai-cu-tri-4206787.html']\n",
        "\n",
        "  def parse(self, response):\n",
        "    for next_page in response.css(\"li > a::attr(href)\").re(r'https.*'):\n",
        "      yield response.follow(next_page, self.parse, )\n",
        "    for para in [ response.css('section').css('h1::text').get() + ' ', ] + response.css('section').css('p::text').getall():\n",
        "      with open('/content/drive/MyDrive/nlp projects/Text correction/rawtext3.txt', 'a', encoding = 'utf-8') as f:\n",
        "        f.write(para)\n"
      ],
      "execution_count": null,
      "outputs": []
    },
    {
      "cell_type": "code",
      "metadata": {
        "id": "Et4UiRNexEmi"
      },
      "source": [
        "class TuoiTreSpider(scrapy.Spider):\n",
        "    name = 'tuoitre_crawler'\n",
        "    allowed_domains =  ['tuoitre.vn']\n",
        "    start_ursl =['https://tuoitre.vn/cao-toc-trung-luong-my-thuan-don-suc-thong-xe-truoc-tet-20201227090122398.htm', \n",
        "                 'https://tuoitre.vn/chau-au-bat-dau-chuong-trinh-tiem-chung-phong-covid-19-quy-mo-lon-20201227162031471.htm', \n",
        "                 'https://tuoitre.vn/thai-lan-xuat-hien-o-dich-moi-tai-mot-tu-diem-co-bac-20201227212433135.htm', \n",
        "                 'https://tuoitre.vn/tiep-suc-nha-nong-duoc-vay-khong-lai-suat-nong-dan-con-duoc-hoan-lai-20-neu-tra-dung-han-20201227160837535.htm', \n",
        "                 'https://tuoitre.vn/phat-hien-nhom-nguoi-trung-quoc-nghi-nhap-canh-trai-phep-luc-rang-sang-20201227105149265.htm', \n",
        "                 'https://tuoitre.vn/nhieu-vi-pham-tai-cac-du-an-dien-ap-mai-nong-nghiep-20201226191945887.htm',\n",
        "                 'https://tuoitre.vn/viet-nam-thuoc-nhom-tang-truong-kinh-te-cao-nhat-the-gioi-20201227155115546.htm', \n",
        "                 ]\n",
        "\n",
        "    def parse(self, response):\n",
        "        for next_page in response.css()\n"
      ],
      "execution_count": null,
      "outputs": []
    },
    {
      "cell_type": "code",
      "metadata": {
        "id": "P5A_ygSgRfFy"
      },
      "source": [
        "class ThanhnienSpider(scrapy.Spider):\n",
        "    #response.css(\"a::attr(href)\").re(r'https.*')\n",
        "    name = 'baothanhnien_crawler'\n",
        "    allowed_domains = ['thanhnien.vn']\n",
        "    start_urls = ['https://thanhnien.vn/doi-song/tet-co-truyen-va-nhung-gia-tri-con-mai-voi-thoi-gian-1322563.html', \n",
        "                'https://thanhnien.vn/doi-song/300-trieu-dong-huong-ve-dong-bao-bi-lu-lut-o-mien-trung-1290290.html',\n",
        "                'https://thanhnien.vn/tai-chinh-kinh-doanh/kinh-te-xanh/ho-bien-mui-hoi-phan-bo-bac-si-thu-y-thanh-ti-phu-1320595.html',\n",
        "                'https://thanhnien.vn/tai-chinh-kinh-doanh/xe-da-chay-duoc-40-kmh-tren-tuyen-cao-toc-trung-luong-my-thuan-1322564.html',\n",
        "                'https://thanhnien.vn/tai-chinh-kinh-doanh/nhieu-doanh-nghiep-fdi-doanh-thu-tang-lo-tang-theo-1322260.html', \n",
        "                'https://thanhnien.vn/giao-duc/tin-tuc-giao-duc-dac-biet-tren-bao-in-ngay-mai-29122020-1322638.html',\n",
        "                'https://thanhnien.vn/du-lich/nong-tren-mang-xa-hoi-panorama-ma-pi-leng-sau-cai-tao-lai-hoanh-trang-hon-1320407.html',\n",
        "                'https://thanhnien.vn/van-hoa/chu-tich-ho-chi-minh-su-dung-nguoi-tai-lam-tuong-1322482.html', \n",
        "                'https://thanhnien.vn/suc-khoe/lam-dep/nhung-thong-tin-can-biet-ve-phuong-phap-cat-mi-mat-bi-sup-1322442.html']\n",
        "\n",
        "    def parse(self, response):\n",
        "        for next_page in response.css(\"a::attr(href)\").re(r'https.*'):\n",
        "            yield response.follow(next_page, self.parse, )\n",
        "        title = [x for x in response.css('h1::text').getall() if x is not None and x != 'None' and len(x.split()) > 5]\n",
        "        h2 = [x for x in response.css('h2::text').getall() if x is not None and x != 'None' and len(x.split()) > 5]\n",
        "        body =  [x for x in response.css(\"div::text\").getall() if x is not None and x != 'None' and len(x.split()) > 5 ]\n",
        "        with open('/content/drive/MyDrive/nlp projects/Text correction/baothanhnien/rawtext.txt', 'a', encoding = 'utf-8') as f:\n",
        "            f.writelines([para+ '\\n' for para in title + h2 + body])\n"
      ],
      "execution_count": null,
      "outputs": []
    },
    {
      "cell_type": "code",
      "metadata": {
        "id": "TSfCYp9BhzOC"
      },
      "source": [
        "class VietnamnetSpider(scrapy.Spider):\n",
        "    #response.css(\"a::attr(href)\").re(r'https.*')\n",
        "    name = 'vietnamnet_crawler'\n",
        "    allowed_domains = ['vietnamnet.vn']\n",
        "    start_urls = ['https://vietnamnet.vn/vn/kinh-doanh/dau-tu/khong-doi-moi-sang-tao-se-mac-ket-trong-ho-nang-suat-thap-704159.html', \n",
        "                  'https://vietnamnet.vn/vn/thoi-su/tp-hcm-bon-lan-dieu-chinh-nhiem-vu-cua-cac-pho-chu-tich-704110.html', \n",
        "                  'https://vietnamnet.vn/vn/thoi-su/bat-giam-truong-khoa-cung-2-dieu-duong-benh-vien-da-khoa-tu-quang-nam-704043.html', \n",
        "                  'https://vietnamnet.vn/vn/thoi-su/quoc-hoi/phat-bieu-cua-chu-tich-qh-tai-cuoc-gap-mat-dbqh-qua-cac-thoi-ky-703465.html', \n",
        "                  'https://vietnamnet.vn/vn/thoi-su/an-toan-giao-thong/o-to-lao-vao-cho-o-hai-phong-7-nguoi-bi-thuong-704215.html', \n",
        "                  'https://vietnamnet.vn/vn/thoi-su/moi-truong/chi-41-ty-dong-tp-vinh-om-84-nghin-tan-rac-thai-chua-xu-ly-703736.html', \n",
        "                  'https://vietnamnet.vn/vn/thoi-su/tin-anh/dien-tap-chong-khung-bo-bao-ve-dai-hoi-dang-704005.html', \n",
        "                  'https://vietnamnet.vn/vn/thoi-su/bhxh-bhyt/bhxh-viet-nam-trien-khai-nhiem-vu-nam-2021-702207.html', \n",
        "                  'https://vietnamnet.vn/vn/thoi-su/chinh-tri/bo-quoc-phong-phat-dong-toan-dan-to-giac-nguoi-nhap-canh-trai-phep-703960.html', \n",
        "                  'https://vietnamnet.vn/vn/kinh-doanh/tai-chinh/gia-bitcoin-tang-manh-704100.html', \n",
        "                  'https://vietnamnet.vn/vn/kinh-doanh/dau-tu/bat-chap-kho-khan-doanh-nghiep-dich-vu-va-cong-nghiep-van-tiep-tuc-lon-manh-704045.html', \n",
        "                  'https://vietnamnet.vn/vn/kinh-doanh/thi-truong/dao-co-thu-gia-tram-trieu-dong-704152.html', \n",
        "                  'https://vietnamnet.vn/vn/kinh-doanh/doanh-nhan/co-phieu-tesla-dua-elon-musk-thanh-ty-phu-giau-nhat-hanh-tinh-704151.html', \n",
        "                  'https://vietnamnet.vn/vn/kinh-doanh/tu-van-tai-chinh/cach-tinh-thue-thu-nhap-ca-nhan-tu-tien-luong-tien-cong-704148.html', \n",
        "                  'https://vietnamnet.vn/vn/kinh-doanh/amaccao/cong-be-tong-amaccao-ran-chac-nhu-da-ben-vinh-cuu-703805.html', \n",
        "                  'https://vietnamnet.vn/vn/giai-tri/the-gioi-sao/madonna-la-dien-vien-te-nhat-thap-ky-704102.html', \n",
        "                  'https://vietnamnet.vn/vn/giai-tri/thoi-trang/nu-nguoi-mau-trung-quoc-qua-doi-tren-may-bay-704113.html', \n",
        "                  'https://vietnamnet.vn/vn/giai-tri/nhac/cuong-seven-ra-mat-mv-anh-da-noi-em-roi-704131.html', \n",
        "                  'https://vietnamnet.vn/vn/giai-tri/phim/bat-mi-phim-ve-phi-cong-co-thanh-son-binh-an-dong-phat-tren-vtv-704107.html',\n",
        "                  'https://vietnamnet.vn/vn/giai-tri/truyen-hinh/duong-trieu-vu-toi-duoc-sinh-ra-o-chuong-heo-704118.html',\n",
        "                  'https://vietnamnet.vn/vn/giai-tri/sach/hieu-ve-nuoc-va-thien-nhien-de-cai-thien-chat-luong-song-704123.html', \n",
        "                  'https://vietnamnet.vn/vn/giai-tri/di-san-my-thuat-san-khau/nsnd-quoc-anh-tra-my-thanh-cap-vo-chong-buoc-vao-cuoc-dua-du-tet-704035.html',\n",
        "                  'https://vietnamnet.vn/vn/giai-tri/di-san-my-thuat-san-khau/nsnd-quoc-anh-tra-my-thanh-cap-vo-chong-buoc-vao-cuoc-dua-du-tet-704035.html',\n",
        "                  'https://vietnamnet.vn/vn/the-gioi/huyen-thoai-thoi-trang-pierre-cardin-qua-doi-701480.html', \n",
        "                  'https://vietnamnet.vn/vn/the-gioi/ho-so/ly-do-dich-covid-19-khong-tro-thanh-tham-hoa-o-chau-phi-703078.html',\n",
        "                  'https://vietnamnet.vn/vn/the-gioi/the-gioi-do-day/hung-bao-chi-trich-con-gai-ong-trump-voi-xoa-tweet-ve-nguoi-bieu-tinh-703616.html',\n",
        "                  'https://vietnamnet.vn/vn/the-gioi/viet-nam-va-the-gioi/chien-thang-cua-long-yeu-nuoc-tinh-ban-vo-tu-trong-sang-viet-nam-campuchia-703780.html',\n",
        "                  'https://vietnamnet.vn/vn/the-gioi/quan-su/he-thong-phong-thu-ten-lua-tinh-vi-cua-israel-702784.html',\n",
        "                  'https://vietnamnet.vn/vn/giao-duc/nguoi-thay/thu-tuong-can-doi-moi-mo-hinh-truong-chuyen-lop-chon-cho-phu-hop-hieu-qua-704079.html',\n",
        "                  'https://vietnamnet.vn/vn/cong-nghe/cong-dong-mang/sau-ong-trump-twitter-xoa-nhieu-tai-khoan-ung-ho-cuu-tong-thong-my-704174.html',\n",
        "                  'https://vietnamnet.vn/vn/suc-khoe/che-do-giam-can-bang-ca-phe-co-thuc-su-hieu-qua-701018.html']\n",
        "\n",
        "    def parse(self, response):\n",
        "        for next_page in  response.xpath('//a[@class=\"articletype_1\"]/@href').getall():\n",
        "            yield response.follow(next_page, self.parse, )\n",
        "\n",
        "        body =  [x for x in response.css(\"p::text\").getall() if x is not None and x != 'None' and len(x.split()) > 10 ]\n",
        "        with open('/content/drive/MyDrive/nlp projects/Text correction/vietnamnet/rawtext.txt', 'a', encoding = 'utf-8') as f:\n",
        "            f.writelines([para + ' ' for para in body])"
      ],
      "execution_count": null,
      "outputs": []
    },
    {
      "cell_type": "code",
      "metadata": {
        "id": "RDeSk2EMW4CL",
        "colab": {
          "base_uri": "https://localhost:8080/"
        },
        "outputId": "64e10a9e-f4d0-4f0f-cb18-56d2d8a6c5eb"
      },
      "source": [
        "!pip install crochet\n",
        "from crochet import setup\n",
        "import scrapy.crawler as crawler\n",
        "from multiprocessing import Process, Queue\n",
        "from twisted.internet import reactor\n",
        "# the wrapper to make it run more times\n",
        "def run_spider(spider):\n",
        "    def f(q):\n",
        "        try:\n",
        "            runner = crawler.CrawlerRunner()\n",
        "            deferred = runner.crawl(spider)\n",
        "            deferred.addBoth(lambda _: reactor.stop())\n",
        "            reactor.run()\n",
        "            q.put(None)\n",
        "        except Exception as e:\n",
        "            q.put(e)\n",
        "\n",
        "    q = Queue()\n",
        "    p = Process(target=f, args=(q,))\n",
        "    p.start()\n",
        "    result = q.get()\n",
        "    p.join()\n",
        "\n",
        "    if result is not None:\n",
        "        raise result "
      ],
      "execution_count": null,
      "outputs": [
        {
          "output_type": "stream",
          "text": [
            "Collecting crochet\n",
            "  Downloading https://files.pythonhosted.org/packages/1a/47/176db77c6b6d8a03e16fd42b203b78f61d9cb526494f32bb6eccf0efd6e1/crochet-1.12.0-py3-none-any.whl\n",
            "Requirement already satisfied: wrapt in /usr/local/lib/python3.6/dist-packages (from crochet) (1.12.1)\n",
            "Requirement already satisfied: Twisted>=16.0 in /usr/local/lib/python3.6/dist-packages (from crochet) (20.3.0)\n",
            "Requirement already satisfied: PyHamcrest!=1.10.0,>=1.9.0 in /usr/local/lib/python3.6/dist-packages (from Twisted>=16.0->crochet) (2.0.2)\n",
            "Requirement already satisfied: zope.interface>=4.4.2 in /usr/local/lib/python3.6/dist-packages (from Twisted>=16.0->crochet) (5.2.0)\n",
            "Requirement already satisfied: attrs>=19.2.0 in /usr/local/lib/python3.6/dist-packages (from Twisted>=16.0->crochet) (20.3.0)\n",
            "Requirement already satisfied: hyperlink>=17.1.1 in /usr/local/lib/python3.6/dist-packages (from Twisted>=16.0->crochet) (21.0.0)\n",
            "Requirement already satisfied: Automat>=0.3.0 in /usr/local/lib/python3.6/dist-packages (from Twisted>=16.0->crochet) (20.2.0)\n",
            "Requirement already satisfied: constantly>=15.1 in /usr/local/lib/python3.6/dist-packages (from Twisted>=16.0->crochet) (15.1.0)\n",
            "Requirement already satisfied: incremental>=16.10.1 in /usr/local/lib/python3.6/dist-packages (from Twisted>=16.0->crochet) (17.5.0)\n",
            "Requirement already satisfied: setuptools in /usr/local/lib/python3.6/dist-packages (from zope.interface>=4.4.2->Twisted>=16.0->crochet) (51.1.1)\n",
            "Requirement already satisfied: idna>=2.5 in /usr/local/lib/python3.6/dist-packages (from hyperlink>=17.1.1->Twisted>=16.0->crochet) (2.10)\n",
            "Requirement already satisfied: six in /usr/local/lib/python3.6/dist-packages (from Automat>=0.3.0->Twisted>=16.0->crochet) (1.15.0)\n",
            "Installing collected packages: crochet\n",
            "Successfully installed crochet-1.12.0\n"
          ],
          "name": "stdout"
        }
      ]
    },
    {
      "cell_type": "code",
      "metadata": {
        "id": "V8e2_eDBOa_T"
      },
      "source": [
        "run_spider(VietnamnetSpider)"
      ],
      "execution_count": null,
      "outputs": []
    },
    {
      "cell_type": "markdown",
      "metadata": {
        "id": "hzX-8QaLkEUD"
      },
      "source": [
        "# Serialize a bunch of text into lines, save to the file.\n"
      ]
    },
    {
      "cell_type": "code",
      "metadata": {
        "id": "ghH46gyQPqzX"
      },
      "source": [
        "import numpy as np\n",
        "def _read_file(input_file, min_seq_len, max_seq_len):\n",
        "  with open(input_file, 'r', encoding= 'utf-8') as f:\n",
        "    raw_text= f.read()\n",
        "\n",
        "  lines = []\n",
        "  raw_text = raw_text.split()\n",
        "  raw_text_len = len(raw_text)\n",
        "  while True:\n",
        "    line_len = np.random.randint(min_seq_len, max_seq_len)\n",
        "    if raw_text_len < line_len :\n",
        "      break\n",
        "    line = ' '.join(raw_text[:line_len])\n",
        "    raw_text = raw_text[line_len:]\n",
        "    lines.append(line)\n",
        "    raw_text_len -= line_len\n",
        "\n",
        "\n",
        "  return lines\n",
        "\n",
        "    \n",
        "\n",
        "\n"
      ],
      "execution_count": null,
      "outputs": []
    },
    {
      "cell_type": "code",
      "metadata": {
        "id": "XpggZZyUkSam"
      },
      "source": [
        "lines = _read_file('/content/drive/MyDrive/nlp projects/Text correction/rawtext3.txt', 15, 40)\n",
        "with open('/content/drive/MyDrive/nlp projects/Text correction/rawtext3_lines_1540.txt', 'w', encoding = 'utf-8') as f:\n",
        "  for line in lines:\n",
        "    f.write(line   + '\\n')\n"
      ],
      "execution_count": null,
      "outputs": []
    },
    {
      "cell_type": "code",
      "metadata": {
        "id": "9BP4mFoM6Fqy"
      },
      "source": [
        ""
      ],
      "execution_count": null,
      "outputs": []
    }
  ]
}